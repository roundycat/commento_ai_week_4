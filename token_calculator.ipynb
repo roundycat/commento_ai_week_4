{
 "cells": [
  {
   "cell_type": "code",
   "execution_count": 1,
   "id": "6400ded9",
   "metadata": {},
   "outputs": [],
   "source": [
    "from PIL import Image\n",
    "import math\n",
    "\n",
    "def estimate_image_tokens(image_path):\n",
    "    \"\"\"\n",
    "    이미지 파일 경로를 받아서 GPT 모델 기준의 토큰 수를 추정합니다.\n",
    "    \"\"\"\n",
    "    with Image.open(image_path) as img:\n",
    "        width, height = img.size\n",
    "\n",
    "    patch_size = 32\n",
    "    tokens_w = math.ceil(width / patch_size)\n",
    "    tokens_h = math.ceil(height / patch_size)\n",
    "    total_tokens = tokens_w * tokens_h\n",
    "\n",
    "    print(f\"이미지 크기: {width} x {height}\")\n",
    "    print(f\"예상 토큰 수: {total_tokens} tokens\")\n",
    "\n",
    "    return total_tokens\n"
   ]
  },
  {
   "cell_type": "code",
   "execution_count": 6,
   "id": "cf6491bf",
   "metadata": {},
   "outputs": [
    {
     "name": "stdout",
     "output_type": "stream",
     "text": [
      "이미지 크기: 800 x 559\n",
      "예상 토큰 수: 450 tokens\n"
     ]
    },
    {
     "data": {
      "text/plain": [
       "450"
      ]
     },
     "execution_count": 6,
     "metadata": {},
     "output_type": "execute_result"
    }
   ],
   "source": [
    "estimate_image_tokens(\"C:\\\\Users\\\\정하민\\\\Desktop\\\\덕픽 테스트\\\\stacy_busan.jpg\")"
   ]
  }
 ],
 "metadata": {
  "kernelspec": {
   "display_name": "base",
   "language": "python",
   "name": "python3"
  },
  "language_info": {
   "codemirror_mode": {
    "name": "ipython",
    "version": 3
   },
   "file_extension": ".py",
   "mimetype": "text/x-python",
   "name": "python",
   "nbconvert_exporter": "python",
   "pygments_lexer": "ipython3",
   "version": "3.11.7"
  }
 },
 "nbformat": 4,
 "nbformat_minor": 5
}
